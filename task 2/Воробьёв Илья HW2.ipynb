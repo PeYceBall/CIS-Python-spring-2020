{
 "cells": [
  {
   "cell_type": "code",
   "execution_count": 89,
   "metadata": {},
   "outputs": [],
   "source": [
    "import codecs\n",
    "import base64"
   ]
  },
  {
   "cell_type": "code",
   "execution_count": 90,
   "metadata": {
    "code_folding": []
   },
   "outputs": [],
   "source": [
    "class EncoderDecoder:\n",
    "    '''\n",
    "    Кодировщик-декодировщик для win-1251\n",
    "    '''\n",
    "    \n",
    "    alphabet = 'ABCDEFGHIJKLMNOPQRSTUVWXYZabcdefghijklmnopqrstuvwxyz0123456789+/'\n",
    "    \n",
    "    @staticmethod\n",
    "    def int_to_binary(num):\n",
    "        result = ''\n",
    "        while num > 0:\n",
    "            result = str(num % 2) + result\n",
    "            num = num // 2\n",
    "        return result\n",
    "    \n",
    "    @staticmethod\n",
    "    def int_to_bytes(x):\n",
    "        return x.to_bytes((x.bit_length() + 7) // 8, 'big')\n",
    "    \n",
    "    def encode(self, string):    \n",
    "        byte_string = codecs.encode(string, 'windows-1251')\n",
    "        int_string = int.from_bytes(byte_string, 'big')\n",
    "        binary = EncoderDecoder.int_to_binary(int_string)\n",
    "\n",
    "        added_bytes = -(len(binary) // 8) % 6\n",
    "        binary += '00000000' * added_bytes\n",
    "            \n",
    "        result, i = '', 0\n",
    "        \n",
    "        while i < len(binary) - added_bytes * 6:\n",
    "            ind = int(binary[i:i + 6], base=2)\n",
    "            result += EncoderDecoder.alphabet[ind]\n",
    "            i += 6\n",
    "\n",
    "        result += '=' * added_bytes\n",
    "\n",
    "        return result\n",
    "\n",
    "    def decode(self, string):\n",
    "        byte_string = ''\n",
    "        added_bytes = 0\n",
    "        \n",
    "        for char in string:\n",
    "            if char == '=':\n",
    "                byte_string += '000000'\n",
    "                added_bytes += 1\n",
    "            else:\n",
    "                code = EncoderDecoder.int_to_binary(\n",
    "                    EncoderDecoder.alphabet.index(char))\n",
    "                code = '0' * (6 - len(code)) + code\n",
    "                byte_string += code\n",
    "                \n",
    "        byte_string = byte_string[:len(byte_string) - 8 * added_bytes]\n",
    "        int_code = int(byte_string, base=2)    \n",
    "        byte_code = EncoderDecoder.int_to_bytes(int_code)\n",
    "\n",
    "        result = codecs.decode(byte_code, 'windows-1251')\n",
    "        return result\n",
    "\n",
    "\n",
    "    def test(self, strings):\n",
    "        for string in strings:\n",
    "            print('Исходная строка: ', string)\n",
    "            encoded = self.encode(string)\n",
    "            print('Закодированная: ', encoded)\n",
    "            print('Декодированная: ', self.decode(encoded), '\\n')"
   ]
  },
  {
   "cell_type": "code",
   "execution_count": 91,
   "metadata": {},
   "outputs": [
    {
     "name": "stdout",
     "output_type": "stream",
     "text": [
      "Исходная строка:  Раз раз раз это хардбасс\n",
      "Закодированная:  0ODnIPDg5yDw4Ocg/fLuIPXg8OTh4PHx\n",
      "Декодированная:  Раз раз раз это хардбасс \n",
      "\n",
      "Исходная строка:  Коммунизм - это Советская власть плюс электрификация всей страны.\n",
      "Закодированная:  yu7s7PPt6OfsIC0g/fLuINHu4uXy8erg/yDi6+Dx8vwg7+v+8SD96+Xq8vDo9Ojq4Pbo/yDi8eXpIPHy8ODt+y4=\n",
      "Декодированная:  Коммунизм - это Советская власть плюс электрификация всей страны. \n",
      "\n",
      "Исходная строка:  Я получил власть, которая и не снилась моему отцу\n",
      "Закодированная:  3yDv7uvz9+jrIOLr4PHy/Cwg6u7y7vDg/yDoIO3lIPHt6Ovg8fwg7O7l7PMg7vL28wA=====\n",
      "Декодированная:  Я получил власть, которая и не снилась моему отцу \n",
      "\n",
      "Исходная строка:  П-вэлью - это вероятность при справедливости нулевой гипотезы получить такое же или более экстремальное значение статистики критерия\n",
      "Закодированная:  zy3i/ev8/iAtIP3y7iDi5fDu//Lt7vHy/CDv8Ogg8e/w4OLl5Ovo4u7x8ugg7fPr5eLu6SDj6O/u8uXn+yDv7uvz9+jy/CDy4Oru5SDm5SDo6+gg4e7r5eUg/erx8vDl7ODr/O3u5SDn7eD35e3o5SDx8uDy6PHy6OroIOrw6PLl8Oj/\n",
      "Декодированная:  П-вэлью - это вероятность при справедливости нулевой гипотезы получить такое же или более экстремальное значение статистики критерия \n",
      "\n",
      "Исходная строка:  Мир истинных мужчин - штука непростая\n",
      "Закодированная:  zOjwIOjx8ujt7fv1IOzz5vfo7SAtIPjy8+rgIO3l7/Du8fLg/wA=====\n",
      "Декодированная:  Мир истинных мужчин - штука непростая \n",
      "\n"
     ]
    }
   ],
   "source": [
    "ed = EncoderDecoder()\n",
    "ed.test(['Раз раз раз это хардбасс',\n",
    "        'Коммунизм - это Советская власть плюс электрификация всей страны.',\n",
    "        'Я получил власть, которая и не снилась моему отцу',\n",
    "        '''П-вэлью - это вероятность при справедливости нулевой гипотезы \\\n",
    "получить такое же или более экстремальное значение статистики критерия''',\n",
    "        'Мир истинных мужчин - штука непростая'])"
   ]
  },
  {
   "cell_type": "code",
   "execution_count": null,
   "metadata": {},
   "outputs": [],
   "source": []
  }
 ],
 "metadata": {
  "kernelspec": {
   "display_name": "Python 3",
   "language": "python",
   "name": "python3"
  },
  "language_info": {
   "codemirror_mode": {
    "name": "ipython",
    "version": 3
   },
   "file_extension": ".py",
   "mimetype": "text/x-python",
   "name": "python",
   "nbconvert_exporter": "python",
   "pygments_lexer": "ipython3",
   "version": "3.8.2"
  }
 },
 "nbformat": 4,
 "nbformat_minor": 2
}
