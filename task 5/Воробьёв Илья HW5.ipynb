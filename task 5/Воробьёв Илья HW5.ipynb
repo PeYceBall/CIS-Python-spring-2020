{
 "cells": [
  {
   "cell_type": "markdown",
   "metadata": {},
   "source": [
    "# Задание 7"
   ]
  },
  {
   "cell_type": "markdown",
   "metadata": {},
   "source": [
    "## 1. PropertyCreator (0.2 балла)\n",
    "\n",
    "Напишите мета класс для создания свойств (property) класса из функций начинающихся с \"set\\_\", \"get\\_\" или \"del_\". Пример использования:\n",
    "<code>\n",
    "class TestPropertyCreator(metaclass=PropertyCreator):\n",
    "    def \\__init\\__(self, lo):\n",
    "        self.__x = None\n",
    "        self.lo = lo\n",
    "\n",
    "    def get_x(self):\n",
    "        return self.__x\n",
    "\n",
    "    def set_x(self, value):\n",
    "        if value < self.lo:\n",
    "            raise ValueError(\"Value must in condition: {} <= value\".format(self.lo))\n",
    "        self.__x = value\n",
    "    \n",
    "    def del_x(self):\n",
    "        self.__x = \"No more\"\n",
    "\n",
    "    pass\n",
    "\n",
    "\n",
    "obj = TestPropertyCreator(5)\n",
    "obj.x = 4\n",
    "print(obj.x)\n",
    "del (obj.x)\n",
    "</code>\n",
    "\n",
    "* Мета класс должен поддерживать наследование, в смысле создавать свойства у потомков.\n",
    "* Должен поддерживать частичное описание свойств, т. е. например, описание одного метода get_val (без set_val и del_val).\n",
    "* Поддерживать множественное использование одного свойства с одним именем в разных классах:\n",
    "\n",
    "<code>\n",
    "class A(metaclass=PropertyCreator):\n",
    "    def get_x(self):\n",
    "        return \"x in class A\"\n",
    "\n",
    "class B(metaclass=PropertyCreator):\n",
    "    def get_x(self):\n",
    "        return \"x in class B\"\n",
    "\n",
    "class C(metaclass=PropertyCreator):\n",
    "    def set_x(self, value):\n",
    "        self.value = \"x in class C\"\n",
    "    def get_x(self):\n",
    "        return self.value\n",
    "</code>\n",
    "* Должен уметь обрабатывать имен с несколькими подчеркиваниями \"get_raw_text\"."
   ]
  },
  {
   "cell_type": "markdown",
   "metadata": {},
   "source": [
    "#### Решение"
   ]
  },
  {
   "cell_type": "code",
   "execution_count": 43,
   "metadata": {},
   "outputs": [],
   "source": [
    "class PropertyCreator(type):\n",
    "    def get_name(name):\n",
    "        '''get_abc_123 -> abc_123'''\n",
    "        return '_'.join(name.split('_')[1:])\n",
    "    \n",
    "    def raise_(e):\n",
    "        raise e\n",
    "        \n",
    "    default_getter = lambda x: PropertyCreator.raise_(AttributeError('no getter'))\n",
    "    default_setter = lambda x, y: PropertyCreator.raise_(AttributeError('no setter'))\n",
    "    default_deleter = lambda x: PropertyCreator.raise_(AttributeError('no deleter'))\n",
    "\n",
    "    def __new__(cls, name, bases, dct):    \n",
    "        properties = set()\n",
    "        new_dct = {}\n",
    "        for name, value in dct.items():\n",
    "            # добавляем в список свойств \n",
    "            if name.split('_')[0] in ['get', 'set', 'del']:\n",
    "                properties.add(PropertyCreator.get_name(name))\n",
    "            else:\n",
    "                new_dct[name] = value\n",
    "                \n",
    "        for prop in properties:\n",
    "            new_dct[prop] = property(\n",
    "                dct.get(f'get_{prop}', PropertyCreator.default_getter),\n",
    "                dct.get(f'set_{prop}', PropertyCreator.default_setter),\n",
    "                dct.get(f'del_{prop}', PropertyCreator.default_deleter)\n",
    "            )\n",
    "        \n",
    "        return type.__new__(cls, name, bases, new_dct)"
   ]
  },
  {
   "cell_type": "markdown",
   "metadata": {},
   "source": [
    "#### Протестируйте свое решение"
   ]
  },
  {
   "cell_type": "code",
   "execution_count": 63,
   "metadata": {},
   "outputs": [],
   "source": [
    "def test_simple():\n",
    "    class TestPropertyCreator(metaclass=PropertyCreator):\n",
    "        def __init__(self, lo):\n",
    "            self.__x = None\n",
    "            self.lo = lo\n",
    "        def get_x(self):\n",
    "            return self.__x\n",
    "\n",
    "        def set_x(self, value):\n",
    "            if value < self.lo:\n",
    "                raise ValueError(\"Value must in condition: {} <= value\".format(self.lo))\n",
    "            self.__x = value\n",
    "\n",
    "        def del_x(self):\n",
    "            self.__x = \"No more\"\n",
    "            \n",
    "    t = TestPropertyCreator(0)\n",
    "    t.x = 500\n",
    "    print(t.x)\n",
    "    del(t.x)\n",
    "    print(t.x)\n",
    "    try:\n",
    "        t.x = -1\n",
    "    except ValueError as e:\n",
    "        print(e)\n",
    "    \n",
    "    \n",
    "def test_with_inheritance():\n",
    "    class TestPropertyCreator(metaclass=PropertyCreator):\n",
    "        pass\n",
    "\n",
    "    class TestPropertyCreatorInheritance(TestPropertyCreator):\n",
    "        def __init__(self):\n",
    "            self._secret_list = []\n",
    "\n",
    "        def get_x(self):\n",
    "            self._secret_list.append(\"get\")\n",
    "            return 0\n",
    "\n",
    "        def set_x(self, value):\n",
    "            self._secret_list.append(\"set\")\n",
    "            \n",
    "    t = TestPropertyCreatorInheritance()\n",
    "    print(t.x)\n",
    "    t.x = 322\n",
    "    print(t.x)\n",
    "    print(t._secret_list)\n",
    "\n",
    "    \n",
    "def test_partially_defined():\n",
    "    class TestPropertyCreator(metaclass=PropertyCreator):\n",
    "        def __init__(self):\n",
    "            self._secret_list = []\n",
    "\n",
    "        def get_x(self):\n",
    "            self._secret_list.append(\"get\")\n",
    "            return 0\n",
    "\n",
    "        def set_y(self, value):\n",
    "            self._secret_list.append(\"set\")\n",
    "            self._y = value\n",
    "    \n",
    "    t = TestPropertyCreator()\n",
    "    print(t.x)\n",
    "    try:\n",
    "        t.x = 1\n",
    "    except AttributeError as e:\n",
    "        print(e)\n",
    "    t.y = 2\n",
    "    try:\n",
    "        print(t.y)\n",
    "    except AttributeError as e:\n",
    "        print(e)\n",
    "    \n",
    "    try:\n",
    "        del t.x\n",
    "    except AttributeError as e:\n",
    "        print(e)\n",
    "    print(t._secret_list)\n",
    "    \n",
    "\n",
    "    \n",
    "def test_sanity():\n",
    "    class TestPropertyCreator(metaclass=PropertyCreator):\n",
    "        _text = 0\n",
    "        def get_raw_text(self):\n",
    "             return self._text\n",
    "\n",
    "        def get_text(self):\n",
    "             return self._text % 2\n",
    "\n",
    "        def set_text(self, value):\n",
    "            try:\n",
    "                self._text = int(value)\n",
    "            except ValueError:\n",
    "                raise TypeError(\"unproper value for text: {}\".format(value))\n",
    "\n",
    "    t = TestPropertyCreator()\n",
    "    print(t.raw_text)\n",
    "    t.text = 9\n",
    "    print(t.raw_text)\n",
    "    print(t.text)\n",
    "    try:\n",
    "        t.text = 'abc'\n",
    "    except TypeError as e:\n",
    "        print(e)\n",
    "    print(t.text)\n",
    "\n",
    "\n",
    "def test_multiple_usages():\n",
    "    class TestPropertyCreatorA(metaclass=PropertyCreator):\n",
    "        def get_x(self):\n",
    "            return 0\n",
    "    class TestPropertyCreatorB(metaclass=PropertyCreator):\n",
    "        def get_x(self):\n",
    "            return 1\n",
    "    class TestPropertyCreatorC(metaclass=PropertyCreator):\n",
    "        def set_x(self, value):\n",
    "            self.value = value + 1\n",
    "        def get_x(self):\n",
    "            return self.value\n",
    "\n",
    "    ta = TestPropertyCreatorA()\n",
    "    tb = TestPropertyCreatorB()\n",
    "    tc = TestPropertyCreatorC()\n",
    "    tcc = TestPropertyCreatorC()\n",
    "    print(ta.x, tb.x)\n",
    "    tc.x = 10\n",
    "    tcc.x = 15\n",
    "    print(tc.x, tcc.x)\n",
    "    print(ta.x, tb.x)\n"
   ]
  },
  {
   "cell_type": "code",
   "execution_count": 64,
   "metadata": {},
   "outputs": [
    {
     "name": "stdout",
     "output_type": "stream",
     "text": [
      "500\n",
      "No more\n",
      "Value must in condition: 0 <= value\n"
     ]
    }
   ],
   "source": [
    "test_simple()"
   ]
  },
  {
   "cell_type": "code",
   "execution_count": 65,
   "metadata": {},
   "outputs": [
    {
     "name": "stdout",
     "output_type": "stream",
     "text": [
      "0\n",
      "0\n",
      "['get', 'set', 'get']\n"
     ]
    }
   ],
   "source": [
    "test_with_inheritance()"
   ]
  },
  {
   "cell_type": "code",
   "execution_count": 66,
   "metadata": {},
   "outputs": [
    {
     "name": "stdout",
     "output_type": "stream",
     "text": [
      "0\n",
      "no setter\n",
      "no getter\n",
      "no deleter\n",
      "['get', 'set']\n"
     ]
    }
   ],
   "source": [
    "test_partially_defined()"
   ]
  },
  {
   "cell_type": "code",
   "execution_count": 67,
   "metadata": {},
   "outputs": [
    {
     "name": "stdout",
     "output_type": "stream",
     "text": [
      "0\n",
      "9\n",
      "1\n",
      "unproper value for text: abc\n",
      "1\n"
     ]
    }
   ],
   "source": [
    "test_sanity()"
   ]
  },
  {
   "cell_type": "code",
   "execution_count": 68,
   "metadata": {},
   "outputs": [
    {
     "name": "stdout",
     "output_type": "stream",
     "text": [
      "0 1\n",
      "11 16\n",
      "0 1\n"
     ]
    }
   ],
   "source": [
    "test_multiple_usages()"
   ]
  },
  {
   "cell_type": "markdown",
   "metadata": {},
   "source": [
    "## 2. InstanceCountExeptioner (0.2 балла)\n",
    "Напишите метакласс InstanceCountExeptioner, который будет следить за количеством экземпляров класса, использующих его. Количество задается через поле класса \\_\\_max_instane\\_count\\_\\_. Т. е. число экземпляров каждого класса регулируется отдельно. Если в классе не указано поле \\_\\_max_instane\\_count\\_\\_, то используйте заранее заданное число в метаклассе (любое). Пример:\n",
    "\n",
    "<code>\n",
    "class TestInstanceCountExeptionerA(metaclass=InstanceCountExeptioner):\n",
    "    \\_\\_max_instane\\_count\\_\\_ = 2\n",
    "    def \\__init\\__(self, a):\n",
    "        self.a = a\n",
    "\n",
    "\n",
    "class TestInstanceCountExeptionerB(metaclass=InstanceCountExeptioner):\n",
    "    \\_\\_max_instane\\_count\\_\\_ = 1\n",
    "    def \\__init\\__(self, a):\n",
    "        self.a = a\n",
    "\n",
    "a_one = TestInstanceCountExeptionerA('one')\n",
    "a_two = TestInstanceCountExeptionerA('two')\n",
    "b_one = TestInstanceCountExeptionerB('one')\n",
    "\\# пока всё шло хорошо\n",
    "\n",
    "\\# а вот\n",
    "a_three = TestInstanceCountExeptionerA('three')\n",
    "\\# выкенет исключение InstanceCountExeption (ваше собственное исключение)\n",
    "</code>"
   ]
  },
  {
   "cell_type": "markdown",
   "metadata": {},
   "source": [
    "#### Решение"
   ]
  },
  {
   "cell_type": "code",
   "execution_count": 206,
   "metadata": {},
   "outputs": [],
   "source": [
    "# Опишите исключение InstanceCountException\n",
    "class InstanceCountException(Exception):\n",
    "    pass"
   ]
  },
  {
   "cell_type": "code",
   "execution_count": 452,
   "metadata": {},
   "outputs": [],
   "source": [
    "# Опишите мета класс InstanceCountExceptioner\n",
    "class InstanceCountExceptioner(type):\n",
    "    instance_count = {}\n",
    "    __max_instance_count__ = 2\n",
    "    \n",
    "    def __call__(cls, *args, **kwargs):\n",
    "        if '__max_instance_count__' in cls.__dict__:\n",
    "            cls_max_count = cls.__max_instance_count__\n",
    "        else:\n",
    "            cls_max_count = InstanceCountExceptioner.__max_instance_count__\n",
    "            \n",
    "        name = cls.__name__\n",
    "            \n",
    "        if name not in InstanceCountExceptioner.instance_count:\n",
    "            InstanceCountExceptioner.instance_count[name] = 0\n",
    "\n",
    "        InstanceCountExceptioner.instance_count[name] += 1\n",
    "        if InstanceCountExceptioner.instance_count[name] > cls_max_count:\n",
    "            raise InstanceCountException(\n",
    "                f'Слишком много объектов класса {name}, максимум: {cls_max_count}'\n",
    "            )\n",
    "        \n",
    "        return type.__call__(cls, *args, **kwargs)"
   ]
  },
  {
   "cell_type": "markdown",
   "metadata": {},
   "source": [
    "#### Протестируйте свое решение"
   ]
  },
  {
   "cell_type": "code",
   "execution_count": 219,
   "metadata": {},
   "outputs": [],
   "source": [
    "class TestInstanceCountExceptionerA(metaclass=InstanceCountExceptioner):\n",
    "    __max_instance_count__ = 2\n",
    "\n",
    "    def __init__(self):\n",
    "        self.a = 1\n",
    "\n",
    "    def get(self):\n",
    "        return self.a\n",
    "\n",
    "\n",
    "class TestInstanceCountExceptionerB(metaclass=InstanceCountExceptioner):\n",
    "    __max_instance_count__ = 3\n",
    "\n",
    "    def __init__(self):\n",
    "        self.b = 2\n",
    "\n",
    "    def get(self):\n",
    "        return self.b\n",
    "\n",
    "    \n",
    "def test_simple():\n",
    "    ta = TestInstanceCountExceptionerA()\n",
    "    tb = TestInstanceCountExceptionerB()\n",
    "    print(ta.get())\n",
    "    print(tb.get())\n",
    "    \n",
    "\n",
    "def test_create():\n",
    "    ta = TestInstanceCountExceptionerA()\n",
    "    tb = TestInstanceCountExceptionerB()\n",
    "    taa = TestInstanceCountExceptionerA()\n",
    "    tbb = TestInstanceCountExceptionerB()\n",
    "    tbbb = TestInstanceCountExceptionerB()\n",
    "    print(taa.get())\n",
    "    print(tbbb.get())\n",
    "    \n",
    "def test_fail_create_a():\n",
    "    ta = TestInstanceCountExceptionerA()\n",
    "    taa = TestInstanceCountExceptionerA()\n",
    "    print(ta.get(), taa.get())\n",
    "    try:\n",
    "        taaa = TestInstanceCountExceptionerA()\n",
    "    except InstanceCountException as e:\n",
    "        print(e)\n",
    "    \n",
    "\n",
    "def test_fail_create_b():\n",
    "    tb = TestInstanceCountExceptionerB()\n",
    "    tbb = TestInstanceCountExceptionerB()\n",
    "    tbbb = TestInstanceCountExceptionerB()\n",
    "\n",
    "    print(tb.get(), tbb.get(), tbbb.get())\n",
    "    try:\n",
    "        tbbbb = TestInstanceCountExceptionerB()\n",
    "    except InstanceCountException as e:\n",
    "        print(e)\n"
   ]
  },
  {
   "cell_type": "markdown",
   "metadata": {},
   "source": [
    "После каждого теста класс `InstanceCountExceptioner` определялся заново, иначе он бы считал объекты из разных тестов."
   ]
  },
  {
   "cell_type": "code",
   "execution_count": 209,
   "metadata": {},
   "outputs": [
    {
     "name": "stdout",
     "output_type": "stream",
     "text": [
      "1\n",
      "2\n"
     ]
    }
   ],
   "source": [
    "test_simple()"
   ]
  },
  {
   "cell_type": "code",
   "execution_count": 214,
   "metadata": {},
   "outputs": [
    {
     "name": "stdout",
     "output_type": "stream",
     "text": [
      "1\n",
      "2\n"
     ]
    }
   ],
   "source": [
    "test_create()"
   ]
  },
  {
   "cell_type": "code",
   "execution_count": 217,
   "metadata": {},
   "outputs": [
    {
     "name": "stdout",
     "output_type": "stream",
     "text": [
      "1 1\n",
      "Слишком много объектов класса TestInstanceCountExceptionerA, максимум: 2\n"
     ]
    }
   ],
   "source": [
    "test_fail_create_a()"
   ]
  },
  {
   "cell_type": "code",
   "execution_count": 220,
   "metadata": {},
   "outputs": [
    {
     "name": "stdout",
     "output_type": "stream",
     "text": [
      "2 2 2\n",
      "Слишком много объектов класса TestInstanceCountExceptionerB, максимум: 3\n"
     ]
    }
   ],
   "source": [
    "test_fail_create_b()"
   ]
  },
  {
   "cell_type": "code",
   "execution_count": 453,
   "metadata": {},
   "outputs": [
    {
     "name": "stdout",
     "output_type": "stream",
     "text": [
      "2 2\n",
      "Слишком много объектов класса TestInstanceCountExceptionerC, максимум: 2\n"
     ]
    }
   ],
   "source": [
    "class TestInstanceCountExceptionerC(metaclass=InstanceCountExceptioner):\n",
    "    # не задаём в классе __max_instance_count__, оно берётся из InstanceCountExceptioner\n",
    "    def __init__(self):\n",
    "        self.c = 2\n",
    "\n",
    "    def get(self):\n",
    "        return self.c\n",
    "    \n",
    "tc = TestInstanceCountExceptionerC()\n",
    "tcc = TestInstanceCountExceptionerC()\n",
    "\n",
    "print(tc.get(), tcc.get())\n",
    "try:\n",
    "    tccc = TestInstanceCountExceptionerC()\n",
    "except InstanceCountException as e:\n",
    "    print(e)"
   ]
  },
  {
   "cell_type": "markdown",
   "metadata": {},
   "source": [
    "## 3. JSONClassCreator (0.6 баллов)\n",
    "Напишите метакласс, который будет по json представлению строить новый класс и обратно. Класс должен уметь следующее:\n",
    "* Поддерживать сохранение и получение магических функций класса.\n",
    "* Поддерживать сохранение и получение обычных функций.\n",
    "* Поддерживать сохранение полей со стандартными типами.\n",
    "* Уберите из сохранения следующие поля и методы: ['\\_\\_dict\\_\\_', '\\_\\_weakref\\_\\_', '\\_\\_module\\_\\_', '\\_\\_init\\_\\_']\n",
    "* У создаваемого класса должна быть функция to_json_str\n",
    "\n",
    "Формат json строки должен быть следующий:\n",
    "\n",
    "<code>\n",
    "{\n",
    "    \"name\": название класса,\n",
    "    \"bases\": базовые классы,\n",
    "    \"methods\": методы класса,\n",
    "    \"attrs\": поля класса\n",
    "}\n",
    "</code>\n",
    "\n",
    "Рекомендации:\n",
    "* Для получения кода функций используйте модуль <a href=\"http://python-lab.ru/documentation/27/stdlib/inspect.html\">inspect</a>.\n",
    "* Для того, чтобы запустить код функций, можно использовать exec.\n",
    "* Можно не исправлять ошибку типа OSError: could not get source code - возникает для функций, полученных с помощью exec."
   ]
  },
  {
   "cell_type": "markdown",
   "metadata": {},
   "source": [
    "#### Пример использования"
   ]
  },
  {
   "cell_type": "code",
   "execution_count": 3,
   "metadata": {},
   "outputs": [],
   "source": [
    "import json\n",
    "\n",
    "\n",
    "class ParentTest1(object):\n",
    "    pass\n",
    "\n",
    "class ParentTest2(object):\n",
    "    pass\n",
    "\n",
    "class Test(ParentTest1, ParentTest2):\n",
    "    \"\"\"Тестовый класс\"\"\"\n",
    "\n",
    "    val = [1, 2, 3]\n",
    "\n",
    "    def f(self, x):\n",
    "        print(x)\n",
    "    \n",
    "    def __repr__(self):\n",
    "        return \"Test(val={})\".format(self.val)\n",
    "\n",
    "    def __str__(self):\n",
    "        return \"Test(val={})\".format(self.val)\n",
    "\n",
    "    pass"
   ]
  },
  {
   "cell_type": "code",
   "execution_count": 5,
   "metadata": {},
   "outputs": [
    {
     "name": "stdout",
     "output_type": "stream",
     "text": [
      "('name', 'Test')\n",
      "('bases', ['ParentTest1', 'ParentTest2'])\n",
      "('methods', {'f': 'def f(self, x):\\n        print(x)', '__repr__': 'def __repr__(self):\\n        return \"Test(val={})\".format(self.val)', '__str__': 'def __str__(self):\\n        return \"Test(val={})\".format(self.val)'})\n",
      "('attrs', {'__doc__': 'Тестовый класс', 'val': [1, 2, 3]})\n"
     ]
    }
   ],
   "source": [
    "print(*json.loads(JSONClassCreator.to_json_str(Test)).items(), sep=\"\\n\")"
   ]
  },
  {
   "cell_type": "code",
   "execution_count": 6,
   "metadata": {
    "collapsed": true
   },
   "outputs": [],
   "source": [
    "tmp = JSONClassCreator(JSONClassCreator.to_json_str(Test))"
   ]
  },
  {
   "cell_type": "code",
   "execution_count": 7,
   "metadata": {},
   "outputs": [
    {
     "name": "stdout",
     "output_type": "stream",
     "text": [
      "hi\n"
     ]
    },
    {
     "data": {
      "text/plain": [
       "(Test(val=[1, 2, 3]), None, [1, 2, 3], 'Тестовый класс')"
      ]
     },
     "execution_count": 7,
     "metadata": {},
     "output_type": "execute_result"
    }
   ],
   "source": [
    "tmp_obj = tmp()\n",
    "tmp_obj, tmp_obj.f(\"hi\"), tmp.val, tmp.__doc__"
   ]
  },
  {
   "cell_type": "code",
   "execution_count": 10,
   "metadata": {},
   "outputs": [
    {
     "data": {
      "text/plain": [
       "mappingproxy({'__doc__': 'Тестовый класс',\n",
       "              '__module__': '__main__',\n",
       "              '__repr__': <function __main__.__repr__>,\n",
       "              '__str__': <function __main__.__str__>,\n",
       "              'f': <function __main__.f>,\n",
       "              'to_json_str': <function __main__.JSONClassCreator.to_json_str>,\n",
       "              'val': [1, 2, 3]})"
      ]
     },
     "execution_count": 10,
     "metadata": {},
     "output_type": "execute_result"
    }
   ],
   "source": [
    "tmp.__dict__"
   ]
  },
  {
   "cell_type": "markdown",
   "metadata": {},
   "source": [
    "#### Решение"
   ]
  },
  {
   "cell_type": "code",
   "execution_count": 4,
   "metadata": {},
   "outputs": [],
   "source": [
    "import inspect\n",
    "import json\n",
    "\n",
    "class JSONClassCreator(type):\n",
    "    def __new__(mcls, json_str):\n",
    "        cls_dict = json.loads(json_str)\n",
    "        name = cls_dict['name']\n",
    "        bases = tuple([globals()[base] for base in cls_dict['bases']])\n",
    "        \n",
    "        # я нашёл только такой способ получить функции по их коду\n",
    "        for _, code in cls_dict['methods'].items():\n",
    "#             exec(code, globals(), locals())\n",
    "            exec(code, globals())\n",
    "\n",
    "        \n",
    "        methods = {name: globals()[name]\n",
    "                   for name, _ in cls_dict['methods'].items()}\n",
    "                \n",
    "        attrs = cls_dict['attrs']\n",
    "        return type.__new__(mcls, name, bases, {**methods, **attrs})\n",
    "        \n",
    "\n",
    "    def to_json_str(cls):\n",
    "        exclude = ['__dict__', '__weakref__', '__module__', '__init__']\n",
    "        # всё что callable\n",
    "        methods = {name: inspect.getsource(value).strip()\n",
    "                   for name, value in cls.__dict__.items() \n",
    "                   if callable(value) and name not in exclude}\n",
    "        \n",
    "        # всё что не callable\n",
    "        attrs = {name: value for name, value in cls.__dict__.items() \n",
    "                   if not callable(value) and name not in exclude}\n",
    "        \n",
    "        if hasattr(cls, '__bases__'):\n",
    "            bases = [base.__name__ for base in cls.__bases__]\n",
    "        else:\n",
    "            bases = []\n",
    "            \n",
    "        return json.dumps({\n",
    "            \"name\": cls.__name__,\n",
    "            \"bases\": bases,\n",
    "            \"methods\": methods,\n",
    "            \"attrs\": attrs\n",
    "        })\n",
    "\n"
   ]
  },
  {
   "cell_type": "markdown",
   "metadata": {},
   "source": [
    "#### Проверьте свое решение на примере"
   ]
  },
  {
   "cell_type": "code",
   "execution_count": 5,
   "metadata": {},
   "outputs": [
    {
     "name": "stdout",
     "output_type": "stream",
     "text": [
      "('name', 'Test')\n",
      "('bases', ['ParentTest1', 'ParentTest2'])\n",
      "('methods', {'f': 'def f(self, x):\\n        print(x)', '__repr__': 'def __repr__(self):\\n        return \"Test(val={})\".format(self.val)', '__str__': 'def __str__(self):\\n        return \"Test(val={})\".format(self.val)'})\n",
      "('attrs', {'__doc__': 'Тестовый класс', 'val': [1, 2, 3]})\n"
     ]
    }
   ],
   "source": [
    "print(*json.loads(JSONClassCreator.to_json_str(Test)).items(), sep=\"\\n\")"
   ]
  },
  {
   "cell_type": "code",
   "execution_count": 6,
   "metadata": {},
   "outputs": [],
   "source": [
    "tmp = JSONClassCreator(JSONClassCreator.to_json_str(Test))"
   ]
  },
  {
   "cell_type": "code",
   "execution_count": 7,
   "metadata": {},
   "outputs": [
    {
     "name": "stdout",
     "output_type": "stream",
     "text": [
      "hi\n"
     ]
    },
    {
     "data": {
      "text/plain": [
       "(Test(val=[1, 2, 3]), None, [1, 2, 3], 'Тестовый класс')"
      ]
     },
     "execution_count": 7,
     "metadata": {},
     "output_type": "execute_result"
    }
   ],
   "source": [
    "tmp_obj = tmp()\n",
    "tmp_obj, tmp_obj.f(\"hi\"), tmp.val, tmp.__doc__"
   ]
  },
  {
   "cell_type": "code",
   "execution_count": 8,
   "metadata": {},
   "outputs": [
    {
     "data": {
      "text/plain": [
       "mappingproxy({'f': <function __main__.f(self, x)>,\n",
       "              '__repr__': <function __main__.__repr__(self)>,\n",
       "              '__str__': <function __main__.__str__(self)>,\n",
       "              '__doc__': 'Тестовый класс',\n",
       "              'val': [1, 2, 3],\n",
       "              '__module__': '__main__'})"
      ]
     },
     "execution_count": 8,
     "metadata": {},
     "output_type": "execute_result"
    }
   ],
   "source": [
    "tmp.__dict__"
   ]
  },
  {
   "cell_type": "code",
   "execution_count": null,
   "metadata": {},
   "outputs": [],
   "source": []
  },
  {
   "cell_type": "code",
   "execution_count": null,
   "metadata": {},
   "outputs": [],
   "source": []
  }
 ],
 "metadata": {
  "kernelspec": {
   "display_name": "Python 3",
   "language": "python",
   "name": "python3"
  },
  "language_info": {
   "codemirror_mode": {
    "name": "ipython",
    "version": 3
   },
   "file_extension": ".py",
   "mimetype": "text/x-python",
   "name": "python",
   "nbconvert_exporter": "python",
   "pygments_lexer": "ipython3",
   "version": "3.7.6"
  }
 },
 "nbformat": 4,
 "nbformat_minor": 2
}
