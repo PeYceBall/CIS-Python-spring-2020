{
 "cells": [
  {
   "cell_type": "markdown",
   "metadata": {},
   "source": [
    "# Задание 8"
   ]
  },
  {
   "cell_type": "markdown",
   "metadata": {},
   "source": [
    "## 1. Wiki philosophy (0.5 баллов)\n",
    "Существует шуточный «закон Философии» для статей Википедии: если переходить по\n",
    "первой нормальной ссылке в статье, то рано или поздно мы придем на статью о философии.\n",
    "Ваша задача заключается в том, чтобы проверить этот закон.\n",
    "Для этого нужно написать программу, которая получает на вход ссылку на статью Википедии, а потом циклически переходит по первой нормальной ссылке и повторяет эту операцию\n",
    "(до тех пор, пока не будет достигнута статья о философии, или ссылки не зациклятся). Нормальной ссылкой будем называть ссылку, которая находится в основном содержании статьи,\n",
    "не в инфобоксах и не в служебных блоках, написана синим цветом (красный соответствует\n",
    "несуществующей статье), не курсивом, не являтся сноской и не находится в скобках.\n",
    "\n",
    "<b>Результат</b> должен представлять из себя несколько статистик (проверьте не менее 100 стр., <i>больше - лучше</i>):\n",
    "* Описание алгоритма, как вы решали, стр. по философии или нет?\n",
    "* Количество начальных ссылок vs Количество конечных тем страниц (0 - стр. не по философии, 1 - по философии).\n",
    "* Гистограмма длин путей.\n",
    "* Соотношений успешных и неуспешных запросов.\n",
    "* Что еще можно тут придумать? :)\n",
    "\n",
    "<b>Обратите внимание</b>, что для проверки нормальности не обязательно разбирать таблицы стилей и\n",
    "проверять цвет и т.п., достаточно сделать, чтобы программа работала для текущей верстки\n",
    "википедии (например, можно использовать атрибут class у тегов).\n",
    "Для удобства проверки сделайте, чтобы последовательность переходов выводилась на\n",
    "экран.\n",
    "\n",
    "<b>Внимание.</b> Чтобы не создавать большую нагрузку на сервер Википедии, сделайте так,\n",
    "чтобы ваша программа делала не более 2-х запросов в секунду. Для этого воспользуйтесь\n",
    "функцией sleep из модуля time.\n",
    "\n",
    "<b>PS</b> Лучше выполнять не в ipython notebook, а прислать отчет в pdf и код."
   ]
  },
  {
   "cell_type": "markdown",
   "metadata": {},
   "source": [
    "### Описание алгоритма\n",
    "\n",
    "Один из вариантов закона заключается в том, чтобы перейти на статью с заголовком Философия, то есть на конкретную страницу [Философия](https://ru.wikipedia.org/wiki/%D0%A4%D0%B8%D0%BB%D0%BE%D1%81%D0%BE%D1%84%D0%B8%D1%8F) "
   ]
  },
  {
   "cell_type": "code",
   "execution_count": 219,
   "metadata": {
    "code_folding": []
   },
   "outputs": [],
   "source": [
    "from requests import get, post\n",
    "import urllib\n",
    "import urllib.parse\n",
    "from bs4 import BeautifulSoup\n",
    "import bs4.element\n",
    "from IPython.core.display import display, HTML\n",
    "import time\n",
    "from tqdm.notebook import tqdm\n",
    "import numpy as np\n",
    "import matplotlib.pyplot as plt\n",
    "%matplotlib inline\n",
    "import seaborn as sns\n",
    "sns.set(style='darkgrid', font_scale=1.3)"
   ]
  },
  {
   "cell_type": "code",
   "execution_count": 220,
   "metadata": {
    "code_folding": []
   },
   "outputs": [],
   "source": [
    "wiki_url = 'https://ru.wikipedia.org'\n",
    "\n",
    "def first_link_in_element(element):\n",
    "    # если в таблице(инфобоксе), то пропускаем\n",
    "    if 'table' in list(map(lambda x: x.name, element.parents)):\n",
    "        return None\n",
    "\n",
    "    # удаляем всё что в скобках\n",
    "    el = BeautifulSoup(str(re.sub('[^_]\\([^)]*\\)', u'', str(element))))\n",
    "    for a in el.find_all('a', recursive=True):\n",
    "\n",
    "        # если сноска(reference), пропускаем\n",
    "        if a.parent.has_attr('class') and 'reference' in a.parent['class']:\n",
    "            continue\n",
    "\n",
    "        # несозданная страница или ссылки на дружественные ресурсы \n",
    "        if a.has_attr('class') and ('new' in a['class'] or 'extiw' in a['class']):\n",
    "            continue\n",
    "\n",
    "        return wiki_url + a.get('href')\n",
    "    \n",
    "    return None\n",
    "\n",
    "def first_link(url):\n",
    "    response = get(url)\n",
    "    html = response.text\n",
    "    soup = BeautifulSoup(html, 'lxml')\n",
    "    \n",
    "\n",
    "    content_div = soup.find(id=\"mw-content-text\").find(class_=\"mw-parser-output\")\n",
    "    # пустая страница\n",
    "    if not content_div:\n",
    "        return\n",
    "\n",
    "    \n",
    "    for element in content_div.find_all(\"p\", recursive=True):\n",
    "        article_link = first_link_in_element(element)\n",
    "        if article_link:\n",
    "            return article_link\n",
    "\n",
    "    # некоторые страницы сделаны в виде списка  \n",
    "    for element in content_div.find_all('ul', recursive=False):\n",
    "        article_link = first_link_in_element(element)\n",
    "        if article_link:\n",
    "            return article_link\n",
    "        \n",
    "    for element in content_div.find_all('ol', recursive=False):\n",
    "        article_link = first_link_in_element(element)\n",
    "        if article_link:\n",
    "            return article_link\n",
    "        \n",
    "    return None"
   ]
  },
  {
   "cell_type": "code",
   "execution_count": 221,
   "metadata": {
    "code_folding": [],
    "scrolled": true
   },
   "outputs": [
    {
     "data": {
      "application/vnd.jupyter.widget-view+json": {
       "model_id": "5fcf0dfba6144a4fa25cd02dda73487c",
       "version_major": 2,
       "version_minor": 0
      },
      "text/plain": [
       "HBox(children=(FloatProgress(value=0.0), HTML(value='')))"
      ]
     },
     "metadata": {},
     "output_type": "display_data"
    },
    {
     "name": "stdout",
     "output_type": "stream",
     "text": [
      "Итерация: 0\n",
      "Найдена философия\n",
      "Итерация: 1\n",
      "Зациклились\n",
      "Итерация: 2\n",
      "Найдена философия\n",
      "Итерация: 3\n",
      "Найдена философия\n",
      "Итерация: 4\n",
      "Найдена философия\n",
      "Итерация: 5\n",
      "Найдена философия\n",
      "Итерация: 6\n",
      "Найдена философия\n",
      "Итерация: 7\n",
      "Найдена философия\n",
      "Итерация: 8\n",
      "Найдена философия\n",
      "Итерация: 9\n",
      "Найдена философия\n",
      "Итерация: 10\n",
      "Найдена философия\n",
      "Итерация: 11\n",
      "Найдена философия\n",
      "Итерация: 12\n",
      "Найдена философия\n",
      "Итерация: 13\n",
      "Найдена философия\n",
      "Итерация: 14\n",
      "Найдена философия\n",
      "Итерация: 15\n",
      "Найдена философия\n",
      "Итерация: 16\n",
      "Зациклились\n",
      "Итерация: 17\n",
      "Найдена философия\n",
      "Итерация: 18\n",
      "Найдена философия\n",
      "Итерация: 19\n",
      "Найдена философия\n",
      "Итерация: 20\n",
      "Зациклились\n",
      "Итерация: 21\n",
      "Найдена философия\n",
      "Итерация: 22\n",
      "Найдена философия\n",
      "Итерация: 23\n",
      "Найдена философия\n",
      "Итерация: 24\n",
      "Найдена философия\n",
      "Итерация: 25\n",
      "Найдена философия\n",
      "Итерация: 26\n",
      "Зациклились\n",
      "Итерация: 27\n",
      "Найдена философия\n",
      "Итерация: 28\n",
      "Найдена философия\n",
      "Итерация: 29\n",
      "Зациклились\n",
      "Итерация: 30\n",
      "Найдена философия\n",
      "Итерация: 31\n",
      "Найдена философия\n",
      "Итерация: 32\n",
      "Найдена философия\n",
      "Итерация: 33\n",
      "Найдена философия\n",
      "Итерация: 34\n",
      "Найдена философия\n",
      "Итерация: 35\n",
      "Найдена философия\n",
      "Итерация: 36\n",
      "Найдена философия\n",
      "Итерация: 37\n",
      "Найдена философия\n",
      "Итерация: 38\n",
      "Найдена философия\n",
      "Итерация: 39\n",
      "Зациклились\n",
      "Итерация: 40\n",
      "Зациклились\n",
      "Итерация: 41\n",
      "Найдена философия\n",
      "Итерация: 42\n",
      "Найдена философия\n",
      "Итерация: 43\n",
      "Зациклились\n",
      "Итерация: 44\n",
      "Найдена философия\n",
      "Итерация: 45\n",
      "Зациклились\n",
      "Итерация: 46\n",
      "Найдена философия\n",
      "Итерация: 47\n",
      "Найдена философия\n",
      "Итерация: 48\n",
      "Найдена философия\n",
      "Итерация: 49\n",
      "Зациклились\n",
      "Итерация: 50\n",
      "Найдена философия\n",
      "Итерация: 51\n",
      "Найдена философия\n",
      "Итерация: 52\n",
      "Зациклились\n",
      "Итерация: 53\n",
      "Зациклились\n",
      "Итерация: 54\n",
      "Найдена философия\n",
      "Итерация: 55\n",
      "Зациклились\n",
      "Итерация: 56\n",
      "Найдена философия\n",
      "Итерация: 57\n",
      "Найдена философия\n",
      "Итерация: 58\n",
      "Найдена философия\n",
      "Итерация: 59\n",
      "Зациклились\n",
      "Итерация: 60\n",
      "Найдена философия\n",
      "Итерация: 61\n",
      "Зациклились\n",
      "Итерация: 62\n",
      "Найдена философия\n",
      "Итерация: 63\n",
      "Найдена философия\n",
      "Итерация: 64\n",
      "Найдена философия\n",
      "Итерация: 65\n",
      "Найдена философия\n",
      "Итерация: 66\n",
      "Зациклились\n",
      "Итерация: 67\n",
      "Найдена философия\n",
      "Итерация: 68\n",
      "Найдена философия\n",
      "Итерация: 69\n",
      "Зациклились\n",
      "Итерация: 70\n",
      "Найдена философия\n",
      "Итерация: 71\n",
      "В статье нет ссылок\n",
      "Итерация: 72\n",
      "Зациклились\n",
      "Итерация: 73\n",
      "Найдена философия\n",
      "Итерация: 74\n",
      "Зациклились\n",
      "Итерация: 75\n",
      "Найдена философия\n",
      "Итерация: 76\n",
      "Найдена философия\n",
      "Итерация: 77\n",
      "Найдена философия\n",
      "Итерация: 78\n",
      "Найдена философия\n",
      "Итерация: 79\n",
      "Найдена философия\n",
      "Итерация: 80\n",
      "Найдена философия\n",
      "Итерация: 81\n",
      "Найдена философия\n",
      "Итерация: 82\n",
      "Зациклились\n",
      "Итерация: 83\n",
      "Найдена философия\n",
      "Итерация: 84\n",
      "Найдена философия\n",
      "Итерация: 85\n",
      "Найдена философия\n",
      "Итерация: 86\n",
      "Найдена философия\n",
      "Итерация: 87\n",
      "Зациклились\n",
      "Итерация: 88\n",
      "Найдена философия\n",
      "Итерация: 89\n",
      "Найдена философия\n",
      "Итерация: 90\n",
      "Найдена философия\n",
      "Итерация: 91\n",
      "Найдена философия\n",
      "Итерация: 92\n",
      "Найдена философия\n",
      "Итерация: 93\n",
      "Найдена философия\n",
      "Итерация: 94\n",
      "Найдена философия\n",
      "Итерация: 95\n",
      "Найдена философия\n",
      "Итерация: 96\n",
      "Найдена философия\n",
      "Итерация: 97\n",
      "Найдена философия\n",
      "Итерация: 98\n",
      "Найдена философия\n",
      "Итерация: 99\n",
      "Найдена философия\n",
      "\n"
     ]
    }
   ],
   "source": [
    "# случайная статья, каждый раз новая\n",
    "start_url = \"https://ru.wikipedia.org/wiki/%D0%A1%D0%BB%D1%83%D0%B6%D0%B5%D0%B1%D0%BD%D0%B0%D1%8F:%D0%A1%D0%BB%D1%83%D1%87%D0%B0%D0%B9%D0%BD%D0%B0%D1%8F_%D1%81%D1%82%D1%80%D0%B0%D0%BD%D0%B8%D1%86%D0%B0\"\n",
    "# философия\n",
    "target_url = \"https://ru.wikipedia.org/wiki/%D0%A4%D0%B8%D0%BB%D0%BE%D1%81%D0%BE%D1%84%D0%B8%D1%8F\"\n",
    "\n",
    "# сколько поисков делаем\n",
    "n_iter = 100\n",
    "path_lengths = []\n",
    "success_num = 0\n",
    "\n",
    "for i in tqdm(range(n_iter)):\n",
    "    history = [start_url] \n",
    "    article_count = 0 \n",
    "    print('Итерация:', i)\n",
    "    \n",
    "    while True:\n",
    "        link = first_link(history[-1])\n",
    "\n",
    "        if not link:\n",
    "            print('В статье нет ссылок')\n",
    "            break\n",
    "            \n",
    "        article_count += 1  \n",
    "#         print(f'{article_count}. {link}')\n",
    "        \n",
    "        if link in history:\n",
    "            print('Зациклились')\n",
    "            break\n",
    "\n",
    "        history.append(link)\n",
    "        if link == target_url:\n",
    "            print('Найдена философия')\n",
    "            success_num += 1\n",
    "            break\n",
    "\n",
    "        time.sleep(0.6) \n",
    "        \n",
    "    path_lengths.append(article_count)"
   ]
  },
  {
   "cell_type": "code",
   "execution_count": 222,
   "metadata": {},
   "outputs": [
    {
     "name": "stdout",
     "output_type": "stream",
     "text": [
      "78\n"
     ]
    }
   ],
   "source": [
    "print(success_num)"
   ]
  },
  {
   "cell_type": "markdown",
   "metadata": {},
   "source": [
    "Страница \"Философия\" была достигнута в 78 из 100 случаев. Один раз попали на статью без ссылок, а в остальных случаях зациклились."
   ]
  },
  {
   "cell_type": "code",
   "execution_count": 225,
   "metadata": {},
   "outputs": [
    {
     "data": {
      "image/png": "[encoded data removed]",
      "text/plain": [
       "<Figure size 864x432 with 1 Axes>"
      ]
     },
     "metadata": {},
     "output_type": "display_data"
    }
   ],
   "source": [
    "plt.figure(figsize=(12, 6))\n",
    "plt.hist(path_lengths)\n",
    "plt.title('Гистограмма длинн путей')\n",
    "plt.xlabel('длина пути')\n",
    "plt.show()"
   ]
  },
  {
   "cell_type": "markdown",
   "metadata": {},
   "source": [
    "Виден какой-то выброс: был один или несколько путей очень большой длины."
   ]
  },
  {
   "cell_type": "code",
   "execution_count": 226,
   "metadata": {},
   "outputs": [
    {
     "data": {
      "text/plain": [
       "array([670])"
      ]
     },
     "execution_count": 226,
     "metadata": {},
     "output_type": "execute_result"
    }
   ],
   "source": [
    "path_lengths_arr = np.array(path_lengths)\n",
    "path_lengths_arr[path_lengths_arr > 100]"
   ]
  },
  {
   "cell_type": "code",
   "execution_count": 227,
   "metadata": {},
   "outputs": [
    {
     "data": {
      "image/png": "[encoded data removed]",
      "text/plain": [
       "<Figure size 864x432 with 1 Axes>"
      ]
     },
     "metadata": {},
     "output_type": "display_data"
    }
   ],
   "source": [
    "plt.figure(figsize=(12, 6))\n",
    "# гистограмма без выброса\n",
    "plt.hist(path_lengths_arr[path_lengths_arr < 100])\n",
    "plt.title('Гистограмма длинн путей')\n",
    "plt.xlabel('длина пути')\n",
    "\n",
    "plt.show()"
   ]
  },
  {
   "cell_type": "markdown",
   "metadata": {},
   "source": [
    "В основном преобладают длинные пути: от 15 и больше."
   ]
  },
  {
   "cell_type": "markdown",
   "metadata": {},
   "source": [
    "## 2. Books lib (0.5 баллов)\n",
    "Напишите сайт-библиотеку для книг. Он должен удовлетворять следующему функционалу:\n",
    "* Иметь одну главную страницу со списком авторов и ниже их произведений.\n",
    "* Можно кликнуть на автора и получить список его произведений на отдельной стр.\n",
    "* Можно кликнуть на книгу и получить текст книги на отдельной стр.\n",
    "* Оформление и улучшение функционала приветствуются. Но можно обойтись заголовками и ссылками.\n",
    "\n",
    "<b>Особенности реализации</b>:\n",
    "* Список книг и авторов заранее не задан и должен быть создан автоматически. (<i>как - понятно из следующего описания</i>)\n",
    "* Все книги хранятся по каталогам, которые имеют имя автора.\n",
    "* Каждая книга имеет название, которое и будет показано в ссылке.\n",
    "* Архив с книгами в папке с заданием (books.zip).\n",
    "* Плюсом будет, если вы \"замайните\" книги, вместо использования случайного списка файлов (+0.2 балла).\n",
    "* Использовать flask и bootstrap стили.\n",
    "\n",
    "<b>PS</b> Лучше выполнять не в ipython notebook, а прислать отчет в pdf и код."
   ]
  },
  {
   "cell_type": "markdown",
   "metadata": {},
   "source": [
    "### Попробую сделать в конце семестра, если можно будет."
   ]
  },
  {
   "cell_type": "code",
   "execution_count": null,
   "metadata": {},
   "outputs": [],
   "source": []
  }
 ],
 "metadata": {
  "kernelspec": {
   "display_name": "Python 3",
   "language": "python",
   "name": "python3"
  },
  "language_info": {
   "codemirror_mode": {
    "name": "ipython",
    "version": 3
   },
   "file_extension": ".py",
   "mimetype": "text/x-python",
   "name": "python",
   "nbconvert_exporter": "python",
   "pygments_lexer": "ipython3",
   "version": "3.7.6"
  },
  "pycharm": {
   "stem_cell": {
    "cell_type": "raw",
    "metadata": {
     "collapsed": false
    },
    "source": []
   }
  }
 },
 "nbformat": 4,
 "nbformat_minor": 2
}
