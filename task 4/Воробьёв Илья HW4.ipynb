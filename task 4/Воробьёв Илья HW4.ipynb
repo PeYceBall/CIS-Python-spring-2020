{
 "cells": [
  {
   "cell_type": "markdown",
   "metadata": {},
   "source": [
    "# Задание 4"
   ]
  },
  {
   "cell_type": "markdown",
   "metadata": {},
   "source": [
    "## 1. Chainer (0.4 балла)\n",
    "\n",
    "Требуется реализовать функцию chainer, которая принимает на вход любое количество итерируемых объектов (в т.ч. контейнеров, которые тоже могут содержать итерируемые объекты) и возвращает список из всех элементов всех переданных контейнеров."
   ]
  },
  {
   "cell_type": "markdown",
   "metadata": {},
   "source": [
    "Есть несколько способ проверить, является ли объект итерируемым. Предложенный ниже кажется наиболее универсальным."
   ]
  },
  {
   "cell_type": "code",
   "execution_count": 1,
   "metadata": {
    "code_folding": []
   },
   "outputs": [],
   "source": [
    "def is_iterable(obj):\n",
    "    try:\n",
    "        it = iter(obj)\n",
    "    except TypeError:\n",
    "        return False\n",
    "    return True\n",
    "\n",
    "def chainer(*args):\n",
    "    acc = []\n",
    "    def chainer_rec(*args):\n",
    "        if not args:\n",
    "            return\n",
    "        \n",
    "        next_obj = args[0]\n",
    "        if not is_iterable(next_obj):\n",
    "            acc.append(next_obj)\n",
    "        else:\n",
    "            try:\n",
    "                next_next_obj = next(iter(next_obj))\n",
    "            except StopIteration:\n",
    "                pass\n",
    "            else:\n",
    "                # если next возвращает тот же объект, то зациклимся\n",
    "                if next_obj is next_next_obj:\n",
    "                    acc.append(next_obj)\n",
    "                else:\n",
    "                    chainer_rec(*next_obj)\n",
    "\n",
    "        chainer_rec(*(args[1:]))\n",
    "        \n",
    "    chainer_rec(*args)\n",
    "    return acc"
   ]
  },
  {
   "cell_type": "markdown",
   "metadata": {},
   "source": [
    "Пример работы функции:"
   ]
  },
  {
   "cell_type": "code",
   "execution_count": 2,
   "metadata": {},
   "outputs": [
    {
     "name": "stdout",
     "output_type": "stream",
     "text": [
      "[1, 2, 3, 'w', 'h', 'y', 'i', ' ', 'n', 'e', 'e', 'd', 'd', 'o', ' ', 't', 'h', 'a', 't', '?']\n"
     ]
    }
   ],
   "source": [
    "chainer([1, 2, 3], \"why\", [\"i need\", [\"do that\", [\"?\"]]])"
   ]
  },
  {
   "cell_type": "markdown",
   "metadata": {},
   "source": [
    "При этом запрещается использовать в коде конструкции циклов while и for."
   ]
  },
  {
   "cell_type": "code",
   "execution_count": 5,
   "metadata": {},
   "outputs": [
    {
     "data": {
      "text/plain": [
       "[1,\n",
       " 2,\n",
       " 3,\n",
       " 'w',\n",
       " 'h',\n",
       " 'y',\n",
       " 'i',\n",
       " ' ',\n",
       " 'n',\n",
       " 'e',\n",
       " 'e',\n",
       " 'd',\n",
       " 'd',\n",
       " 'o',\n",
       " ' ',\n",
       " 't',\n",
       " 'h',\n",
       " 'a',\n",
       " 't',\n",
       " '?']"
      ]
     },
     "execution_count": 5,
     "metadata": {},
     "output_type": "execute_result"
    }
   ],
   "source": [
    "chainer([1, 2, 3], \"why\", [\"i need\", [\"do that\", [\"?\"]]])"
   ]
  },
  {
   "cell_type": "markdown",
   "metadata": {},
   "source": [
    "## 2. Dataflow (0.6 балла)\n",
    "\n",
    "В данном задании требуется написать обработчик генераторов, вычисляющих факториал. Для каждого генератора должна быть функция декоратор, которая инициализирует генератор."
   ]
  },
  {
   "cell_type": "code",
   "execution_count": 1,
   "metadata": {},
   "outputs": [],
   "source": [
    "import functools"
   ]
  },
  {
   "cell_type": "code",
   "execution_count": 47,
   "metadata": {},
   "outputs": [],
   "source": [
    "def coroutine(func):\n",
    "    @functools.wraps(func)\n",
    "    def wrapper(*args, **kwargs):\n",
    "        res = func(*args, **kwargs)\n",
    "        res.send(None)\n",
    "        return res\n",
    "    return wrapper"
   ]
  },
  {
   "cell_type": "markdown",
   "metadata": {},
   "source": [
    "Функция генератор факториалов принимает на вход n - максимальный факториал, который может вычислить (n!)."
   ]
  },
  {
   "cell_type": "code",
   "execution_count": 48,
   "metadata": {},
   "outputs": [],
   "source": [
    "@coroutine\n",
    "def fact_generator(n):\n",
    "    factorial = 1\n",
    "    for x in range(n + 1):\n",
    "        yield factorial\n",
    "        factorial *= x + 1\n",
    "        "
   ]
  },
  {
   "cell_type": "markdown",
   "metadata": {},
   "source": [
    "Пример:\n",
    "\n",
    "f10 = fact_generator(10)\n",
    "\n",
    "создает генератор, который при каждом вызове next(f10) возвращает текущее значение факториала, т. е.\n",
    "\n",
    "next(f10) # вернет 1\n",
    "\n",
    "next(f10) # вернет 2\n",
    "\n",
    "next(f10) # вернет 6\n",
    "\n",
    "...\n"
   ]
  },
  {
   "cell_type": "code",
   "execution_count": 49,
   "metadata": {},
   "outputs": [
    {
     "name": "stdout",
     "output_type": "stream",
     "text": [
      "1\n",
      "2\n",
      "6\n",
      "24\n",
      "120\n",
      "720\n",
      "5040\n",
      "40320\n",
      "362880\n",
      "3628800\n"
     ]
    }
   ],
   "source": [
    "f10 = fact_generator(10)\n",
    "for f in f10:\n",
    "    print(f)"
   ]
  },
  {
   "cell_type": "markdown",
   "metadata": {},
   "source": [
    "При этом должен быть реализован функционал, который позволяет послать значение z в генератор и должно вернуться соответствующее значение факториала последовательным применением функции next. Если это невозможно (генератор исчерпался), должно быть выведено сообщение об этом и последнее возможное значение факториала.\n",
    "\n",
    "Данный функционал должен быть реализован в классе GeneratorManager:"
   ]
  },
  {
   "cell_type": "code",
   "execution_count": 50,
   "metadata": {},
   "outputs": [],
   "source": [
    "class GeneratorManager(object):\n",
    "    def __init__(self, *fact_desc):\n",
    "        self.generators = [{'generator': fact_generator(n),\n",
    "                           'current': 1,\n",
    "                           'max': n,\n",
    "                           'active': True} \n",
    "                           for n in fact_desc]\n",
    "        self.num_finished = 0\n",
    "            \n",
    "    def send(self, z):\n",
    "        if len(self.generators) == self.num_finished:\n",
    "            print(\"All generators are closed!\")\n",
    "            return \n",
    "        \n",
    "        for gen in self.generators:\n",
    "            if gen['current'] <= z and gen['max'] >= z and gen['active']:\n",
    "                values = [next(gen['generator']) \n",
    "                          for i in range(gen['current'], z + 1)]\n",
    "                \n",
    "                gen['current'] = z + 1\n",
    "                if z == gen['max']:\n",
    "                    self.num_finished += 1\n",
    "                    gen['active'] = False\n",
    "                    \n",
    "                return values[-1]    \n",
    "        \n",
    "        print(f\"Can't calculate {z}!\")"
   ]
  },
  {
   "cell_type": "markdown",
   "metadata": {},
   "source": [
    "fact_desc - это список из чисел $n_i$ для каждого из которых создается свой генератор fact_generator($n_i$) и сохраняется в классе GeneratorManeger.\n",
    "\n",
    "send должна выбрать любой генератор из еще не исчерпавшихся и вычислить значение факториала. Если таких нет, сообщить об этом.\n",
    "\n",
    "Пример работы:"
   ]
  },
  {
   "cell_type": "code",
   "execution_count": 51,
   "metadata": {},
   "outputs": [],
   "source": [
    "gm = GeneratorManager(3, 6)"
   ]
  },
  {
   "cell_type": "code",
   "execution_count": 52,
   "metadata": {},
   "outputs": [
    {
     "data": {
      "text/plain": [
       "6"
      ]
     },
     "execution_count": 52,
     "metadata": {},
     "output_type": "execute_result"
    }
   ],
   "source": [
    "gm.send(3)"
   ]
  },
  {
   "cell_type": "code",
   "execution_count": 53,
   "metadata": {},
   "outputs": [
    {
     "data": {
      "text/plain": [
       "6"
      ]
     },
     "execution_count": 53,
     "metadata": {},
     "output_type": "execute_result"
    }
   ],
   "source": [
    "gm.send(3)"
   ]
  },
  {
   "cell_type": "code",
   "execution_count": 54,
   "metadata": {},
   "outputs": [
    {
     "name": "stdout",
     "output_type": "stream",
     "text": [
      "Can't calculate 3!\n"
     ]
    }
   ],
   "source": [
    "gm.send(3)"
   ]
  },
  {
   "cell_type": "code",
   "execution_count": 55,
   "metadata": {},
   "outputs": [
    {
     "data": {
      "text/plain": [
       "120"
      ]
     },
     "execution_count": 55,
     "metadata": {},
     "output_type": "execute_result"
    }
   ],
   "source": [
    "gm.send(5)"
   ]
  },
  {
   "cell_type": "code",
   "execution_count": 56,
   "metadata": {},
   "outputs": [
    {
     "name": "stdout",
     "output_type": "stream",
     "text": [
      "Can't calculate 7!\n"
     ]
    }
   ],
   "source": [
    "gm.send(7)"
   ]
  },
  {
   "cell_type": "code",
   "execution_count": 57,
   "metadata": {},
   "outputs": [
    {
     "data": {
      "text/plain": [
       "720"
      ]
     },
     "execution_count": 57,
     "metadata": {},
     "output_type": "execute_result"
    }
   ],
   "source": [
    "gm.send(6)"
   ]
  },
  {
   "cell_type": "code",
   "execution_count": 58,
   "metadata": {},
   "outputs": [
    {
     "name": "stdout",
     "output_type": "stream",
     "text": [
      "All generators are closed!\n"
     ]
    }
   ],
   "source": [
    "gm.send(1)"
   ]
  },
  {
   "cell_type": "code",
   "execution_count": null,
   "metadata": {},
   "outputs": [],
   "source": []
  }
 ],
 "metadata": {
  "kernelspec": {
   "display_name": "Python 3",
   "language": "python",
   "name": "python3"
  },
  "language_info": {
   "codemirror_mode": {
    "name": "ipython",
    "version": 3
   },
   "file_extension": ".py",
   "mimetype": "text/x-python",
   "name": "python",
   "nbconvert_exporter": "python",
   "pygments_lexer": "ipython3",
   "version": "3.7.6"
  }
 },
 "nbformat": 4,
 "nbformat_minor": 2
}
